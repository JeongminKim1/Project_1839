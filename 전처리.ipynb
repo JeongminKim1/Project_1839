{
  "nbformat": 4,
  "nbformat_minor": 0,
  "metadata": {
    "colab": {
      "name": "전처리.ipynb",
      "provenance": [],
      "collapsed_sections": []
    },
    "kernelspec": {
      "name": "python3",
      "display_name": "Python 3"
    },
    "language_info": {
      "name": "python"
    }
  },
  "cells": [
    {
      "cell_type": "code",
      "metadata": {
        "colab": {
          "base_uri": "https://localhost:8080/",
          "height": 1000
        },
        "id": "fifn9j8BH_U_",
        "outputId": "8702a5db-6795-4147-bd1c-6fbdaf5ea653"
      },
      "source": [
        "!pip install kss\n",
        "!pip install konlpy\n",
        "!pip install git+https://github.com/ssut/py-hanspell.git\n",
        "!pip install git+https://github.com/haven-jeon/PyKoSpacing.git\n"
      ],
      "execution_count": 3,
      "outputs": [
        {
          "output_type": "stream",
          "name": "stdout",
          "text": [
            "Collecting kss\n",
            "  Downloading kss-3.3.1.1.tar.gz (42.4 MB)\n",
            "\u001b[K     |████████████████████████████████| 42.4 MB 1.4 MB/s \n",
            "\u001b[?25hCollecting emoji\n",
            "  Downloading emoji-1.6.1.tar.gz (170 kB)\n",
            "\u001b[K     |████████████████████████████████| 170 kB 54.9 MB/s \n",
            "\u001b[?25hBuilding wheels for collected packages: kss, emoji\n",
            "  Building wheel for kss (setup.py) ... \u001b[?25l\u001b[?25hdone\n",
            "  Created wheel for kss: filename=kss-3.3.1.1-py3-none-any.whl size=42449239 sha256=c623d06d563b522c80abfceb65bb34ddfc775badbb507334e538d9838bd98ada\n",
            "  Stored in directory: /root/.cache/pip/wheels/6e/9d/1d/52871154eff5273abb86b96f4f984c1cd67c5bde64239b060a\n",
            "  Building wheel for emoji (setup.py) ... \u001b[?25l\u001b[?25hdone\n",
            "  Created wheel for emoji: filename=emoji-1.6.1-py3-none-any.whl size=169314 sha256=029d4132e08928a590471ef60dc685a90bef8e75ffaca914b59f6d0c43f7c441\n",
            "  Stored in directory: /root/.cache/pip/wheels/ea/5f/d3/03d313ddb3c2a1a427bb4690f1621eea60fe6f2a30cc95940f\n",
            "Successfully built kss emoji\n",
            "Installing collected packages: emoji, kss\n",
            "Successfully installed emoji-1.6.1 kss-3.3.1.1\n",
            "Collecting konlpy\n",
            "  Downloading konlpy-0.5.2-py2.py3-none-any.whl (19.4 MB)\n",
            "\u001b[K     |████████████████████████████████| 19.4 MB 7.0 MB/s \n",
            "\u001b[?25hRequirement already satisfied: tweepy>=3.7.0 in /usr/local/lib/python3.7/dist-packages (from konlpy) (3.10.0)\n",
            "Requirement already satisfied: numpy>=1.6 in /usr/local/lib/python3.7/dist-packages (from konlpy) (1.19.5)\n",
            "Collecting beautifulsoup4==4.6.0\n",
            "  Downloading beautifulsoup4-4.6.0-py3-none-any.whl (86 kB)\n",
            "\u001b[K     |████████████████████████████████| 86 kB 5.1 MB/s \n",
            "\u001b[?25hCollecting JPype1>=0.7.0\n",
            "  Downloading JPype1-1.3.0-cp37-cp37m-manylinux_2_5_x86_64.manylinux1_x86_64.whl (448 kB)\n",
            "\u001b[K     |████████████████████████████████| 448 kB 56.5 MB/s \n",
            "\u001b[?25hCollecting colorama\n",
            "  Downloading colorama-0.4.4-py2.py3-none-any.whl (16 kB)\n",
            "Requirement already satisfied: lxml>=4.1.0 in /usr/local/lib/python3.7/dist-packages (from konlpy) (4.2.6)\n",
            "Requirement already satisfied: typing-extensions in /usr/local/lib/python3.7/dist-packages (from JPype1>=0.7.0->konlpy) (3.10.0.2)\n",
            "Requirement already satisfied: requests-oauthlib>=0.7.0 in /usr/local/lib/python3.7/dist-packages (from tweepy>=3.7.0->konlpy) (1.3.0)\n",
            "Requirement already satisfied: six>=1.10.0 in /usr/local/lib/python3.7/dist-packages (from tweepy>=3.7.0->konlpy) (1.15.0)\n",
            "Requirement already satisfied: requests[socks]>=2.11.1 in /usr/local/lib/python3.7/dist-packages (from tweepy>=3.7.0->konlpy) (2.23.0)\n",
            "Requirement already satisfied: oauthlib>=3.0.0 in /usr/local/lib/python3.7/dist-packages (from requests-oauthlib>=0.7.0->tweepy>=3.7.0->konlpy) (3.1.1)\n",
            "Requirement already satisfied: urllib3!=1.25.0,!=1.25.1,<1.26,>=1.21.1 in /usr/local/lib/python3.7/dist-packages (from requests[socks]>=2.11.1->tweepy>=3.7.0->konlpy) (1.24.3)\n",
            "Requirement already satisfied: certifi>=2017.4.17 in /usr/local/lib/python3.7/dist-packages (from requests[socks]>=2.11.1->tweepy>=3.7.0->konlpy) (2021.10.8)\n",
            "Requirement already satisfied: idna<3,>=2.5 in /usr/local/lib/python3.7/dist-packages (from requests[socks]>=2.11.1->tweepy>=3.7.0->konlpy) (2.10)\n",
            "Requirement already satisfied: chardet<4,>=3.0.2 in /usr/local/lib/python3.7/dist-packages (from requests[socks]>=2.11.1->tweepy>=3.7.0->konlpy) (3.0.4)\n",
            "Requirement already satisfied: PySocks!=1.5.7,>=1.5.6 in /usr/local/lib/python3.7/dist-packages (from requests[socks]>=2.11.1->tweepy>=3.7.0->konlpy) (1.7.1)\n",
            "Installing collected packages: JPype1, colorama, beautifulsoup4, konlpy\n",
            "  Attempting uninstall: beautifulsoup4\n",
            "    Found existing installation: beautifulsoup4 4.6.3\n",
            "    Uninstalling beautifulsoup4-4.6.3:\n",
            "      Successfully uninstalled beautifulsoup4-4.6.3\n",
            "Successfully installed JPype1-1.3.0 beautifulsoup4-4.6.0 colorama-0.4.4 konlpy-0.5.2\n",
            "Collecting git+https://github.com/ssut/py-hanspell.git\n",
            "  Cloning https://github.com/ssut/py-hanspell.git to /tmp/pip-req-build-tg79rkf9\n",
            "  Running command git clone -q https://github.com/ssut/py-hanspell.git /tmp/pip-req-build-tg79rkf9\n",
            "Requirement already satisfied: requests in /usr/local/lib/python3.7/dist-packages (from py-hanspell==1.1) (2.23.0)\n",
            "Requirement already satisfied: idna<3,>=2.5 in /usr/local/lib/python3.7/dist-packages (from requests->py-hanspell==1.1) (2.10)\n",
            "Requirement already satisfied: urllib3!=1.25.0,!=1.25.1,<1.26,>=1.21.1 in /usr/local/lib/python3.7/dist-packages (from requests->py-hanspell==1.1) (1.24.3)\n",
            "Requirement already satisfied: certifi>=2017.4.17 in /usr/local/lib/python3.7/dist-packages (from requests->py-hanspell==1.1) (2021.10.8)\n",
            "Requirement already satisfied: chardet<4,>=3.0.2 in /usr/local/lib/python3.7/dist-packages (from requests->py-hanspell==1.1) (3.0.4)\n",
            "Building wheels for collected packages: py-hanspell\n",
            "  Building wheel for py-hanspell (setup.py) ... \u001b[?25l\u001b[?25hdone\n",
            "  Created wheel for py-hanspell: filename=py_hanspell-1.1-py3-none-any.whl size=4868 sha256=7c3066a01cc992125a217d59876bff2b55fa14de9d684ff2ea7a731aa9198287\n",
            "  Stored in directory: /tmp/pip-ephem-wheel-cache-nx4x7juw/wheels/ab/f5/7b/d4124bb329c905301baed80e2ae45aa14e824f62ebc3ec2cc4\n",
            "Successfully built py-hanspell\n",
            "Installing collected packages: py-hanspell\n",
            "Successfully installed py-hanspell-1.1\n",
            "Collecting git+https://github.com/haven-jeon/PyKoSpacing.git\n",
            "  Cloning https://github.com/haven-jeon/PyKoSpacing.git to /tmp/pip-req-build-1l6tgmfp\n",
            "  Running command git clone -q https://github.com/haven-jeon/PyKoSpacing.git /tmp/pip-req-build-1l6tgmfp\n",
            "Collecting tensorflow==2.5.2\n",
            "  Downloading tensorflow-2.5.2-cp37-cp37m-manylinux2010_x86_64.whl (454.4 MB)\n",
            "\u001b[K     |████████████████████████████████| 454.4 MB 23 kB/s \n",
            "\u001b[?25hRequirement already satisfied: h5py==3.1.0 in /usr/local/lib/python3.7/dist-packages (from pykospacing==0.5) (3.1.0)\n",
            "Collecting argparse>=1.4.0\n",
            "  Downloading argparse-1.4.0-py2.py3-none-any.whl (23 kB)\n",
            "Requirement already satisfied: cached-property in /usr/local/lib/python3.7/dist-packages (from h5py==3.1.0->pykospacing==0.5) (1.5.2)\n",
            "Requirement already satisfied: numpy>=1.14.5 in /usr/local/lib/python3.7/dist-packages (from h5py==3.1.0->pykospacing==0.5) (1.19.5)\n",
            "Collecting tensorflow-estimator<2.6.0,>=2.5.0\n",
            "  Downloading tensorflow_estimator-2.5.0-py2.py3-none-any.whl (462 kB)\n",
            "\u001b[K     |████████████████████████████████| 462 kB 36.3 MB/s \n",
            "\u001b[?25hRequirement already satisfied: six~=1.15.0 in /usr/local/lib/python3.7/dist-packages (from tensorflow==2.5.2->pykospacing==0.5) (1.15.0)\n",
            "Collecting flatbuffers~=1.12.0\n",
            "  Downloading flatbuffers-1.12-py2.py3-none-any.whl (15 kB)\n",
            "Collecting wrapt~=1.12.1\n",
            "  Downloading wrapt-1.12.1.tar.gz (27 kB)\n",
            "Requirement already satisfied: google-pasta~=0.2 in /usr/local/lib/python3.7/dist-packages (from tensorflow==2.5.2->pykospacing==0.5) (0.2.0)\n",
            "Requirement already satisfied: opt-einsum~=3.3.0 in /usr/local/lib/python3.7/dist-packages (from tensorflow==2.5.2->pykospacing==0.5) (3.3.0)\n",
            "Requirement already satisfied: astunparse~=1.6.3 in /usr/local/lib/python3.7/dist-packages (from tensorflow==2.5.2->pykospacing==0.5) (1.6.3)\n",
            "Collecting typing-extensions~=3.7.4\n",
            "  Downloading typing_extensions-3.7.4.3-py3-none-any.whl (22 kB)\n",
            "Requirement already satisfied: protobuf>=3.9.2 in /usr/local/lib/python3.7/dist-packages (from tensorflow==2.5.2->pykospacing==0.5) (3.17.3)\n",
            "Requirement already satisfied: termcolor~=1.1.0 in /usr/local/lib/python3.7/dist-packages (from tensorflow==2.5.2->pykospacing==0.5) (1.1.0)\n",
            "Requirement already satisfied: wheel~=0.35 in /usr/local/lib/python3.7/dist-packages (from tensorflow==2.5.2->pykospacing==0.5) (0.37.0)\n",
            "Collecting keras-nightly~=2.5.0.dev\n",
            "  Downloading keras_nightly-2.5.0.dev2021032900-py2.py3-none-any.whl (1.2 MB)\n",
            "\u001b[K     |████████████████████████████████| 1.2 MB 45.7 MB/s \n",
            "\u001b[?25hRequirement already satisfied: keras-preprocessing~=1.1.2 in /usr/local/lib/python3.7/dist-packages (from tensorflow==2.5.2->pykospacing==0.5) (1.1.2)\n",
            "Requirement already satisfied: gast==0.4.0 in /usr/local/lib/python3.7/dist-packages (from tensorflow==2.5.2->pykospacing==0.5) (0.4.0)\n",
            "Requirement already satisfied: absl-py~=0.10 in /usr/local/lib/python3.7/dist-packages (from tensorflow==2.5.2->pykospacing==0.5) (0.12.0)\n",
            "Requirement already satisfied: tensorboard~=2.5 in /usr/local/lib/python3.7/dist-packages (from tensorflow==2.5.2->pykospacing==0.5) (2.7.0)\n",
            "Collecting grpcio~=1.34.0\n",
            "  Downloading grpcio-1.34.1-cp37-cp37m-manylinux2014_x86_64.whl (4.0 MB)\n",
            "\u001b[K     |████████████████████████████████| 4.0 MB 42.1 MB/s \n",
            "\u001b[?25hRequirement already satisfied: requests<3,>=2.21.0 in /usr/local/lib/python3.7/dist-packages (from tensorboard~=2.5->tensorflow==2.5.2->pykospacing==0.5) (2.23.0)\n",
            "Requirement already satisfied: setuptools>=41.0.0 in /usr/local/lib/python3.7/dist-packages (from tensorboard~=2.5->tensorflow==2.5.2->pykospacing==0.5) (57.4.0)\n",
            "Requirement already satisfied: tensorboard-plugin-wit>=1.6.0 in /usr/local/lib/python3.7/dist-packages (from tensorboard~=2.5->tensorflow==2.5.2->pykospacing==0.5) (1.8.0)\n",
            "Requirement already satisfied: google-auth<3,>=1.6.3 in /usr/local/lib/python3.7/dist-packages (from tensorboard~=2.5->tensorflow==2.5.2->pykospacing==0.5) (1.35.0)\n",
            "Requirement already satisfied: werkzeug>=0.11.15 in /usr/local/lib/python3.7/dist-packages (from tensorboard~=2.5->tensorflow==2.5.2->pykospacing==0.5) (1.0.1)\n",
            "Requirement already satisfied: tensorboard-data-server<0.7.0,>=0.6.0 in /usr/local/lib/python3.7/dist-packages (from tensorboard~=2.5->tensorflow==2.5.2->pykospacing==0.5) (0.6.1)\n",
            "Requirement already satisfied: markdown>=2.6.8 in /usr/local/lib/python3.7/dist-packages (from tensorboard~=2.5->tensorflow==2.5.2->pykospacing==0.5) (3.3.6)\n",
            "Requirement already satisfied: google-auth-oauthlib<0.5,>=0.4.1 in /usr/local/lib/python3.7/dist-packages (from tensorboard~=2.5->tensorflow==2.5.2->pykospacing==0.5) (0.4.6)\n",
            "Requirement already satisfied: rsa<5,>=3.1.4 in /usr/local/lib/python3.7/dist-packages (from google-auth<3,>=1.6.3->tensorboard~=2.5->tensorflow==2.5.2->pykospacing==0.5) (4.8)\n",
            "Requirement already satisfied: cachetools<5.0,>=2.0.0 in /usr/local/lib/python3.7/dist-packages (from google-auth<3,>=1.6.3->tensorboard~=2.5->tensorflow==2.5.2->pykospacing==0.5) (4.2.4)\n",
            "Requirement already satisfied: pyasn1-modules>=0.2.1 in /usr/local/lib/python3.7/dist-packages (from google-auth<3,>=1.6.3->tensorboard~=2.5->tensorflow==2.5.2->pykospacing==0.5) (0.2.8)\n",
            "Requirement already satisfied: requests-oauthlib>=0.7.0 in /usr/local/lib/python3.7/dist-packages (from google-auth-oauthlib<0.5,>=0.4.1->tensorboard~=2.5->tensorflow==2.5.2->pykospacing==0.5) (1.3.0)\n",
            "Requirement already satisfied: importlib-metadata>=4.4 in /usr/local/lib/python3.7/dist-packages (from markdown>=2.6.8->tensorboard~=2.5->tensorflow==2.5.2->pykospacing==0.5) (4.8.2)\n",
            "Requirement already satisfied: zipp>=0.5 in /usr/local/lib/python3.7/dist-packages (from importlib-metadata>=4.4->markdown>=2.6.8->tensorboard~=2.5->tensorflow==2.5.2->pykospacing==0.5) (3.6.0)\n",
            "Requirement already satisfied: pyasn1<0.5.0,>=0.4.6 in /usr/local/lib/python3.7/dist-packages (from pyasn1-modules>=0.2.1->google-auth<3,>=1.6.3->tensorboard~=2.5->tensorflow==2.5.2->pykospacing==0.5) (0.4.8)\n",
            "Requirement already satisfied: chardet<4,>=3.0.2 in /usr/local/lib/python3.7/dist-packages (from requests<3,>=2.21.0->tensorboard~=2.5->tensorflow==2.5.2->pykospacing==0.5) (3.0.4)\n",
            "Requirement already satisfied: certifi>=2017.4.17 in /usr/local/lib/python3.7/dist-packages (from requests<3,>=2.21.0->tensorboard~=2.5->tensorflow==2.5.2->pykospacing==0.5) (2021.10.8)\n",
            "Requirement already satisfied: idna<3,>=2.5 in /usr/local/lib/python3.7/dist-packages (from requests<3,>=2.21.0->tensorboard~=2.5->tensorflow==2.5.2->pykospacing==0.5) (2.10)\n",
            "Requirement already satisfied: urllib3!=1.25.0,!=1.25.1,<1.26,>=1.21.1 in /usr/local/lib/python3.7/dist-packages (from requests<3,>=2.21.0->tensorboard~=2.5->tensorflow==2.5.2->pykospacing==0.5) (1.24.3)\n",
            "Requirement already satisfied: oauthlib>=3.0.0 in /usr/local/lib/python3.7/dist-packages (from requests-oauthlib>=0.7.0->google-auth-oauthlib<0.5,>=0.4.1->tensorboard~=2.5->tensorflow==2.5.2->pykospacing==0.5) (3.1.1)\n",
            "Building wheels for collected packages: pykospacing, wrapt\n",
            "  Building wheel for pykospacing (setup.py) ... \u001b[?25l\u001b[?25hdone\n",
            "  Created wheel for pykospacing: filename=pykospacing-0.5-py3-none-any.whl size=2268581 sha256=29d56aad5bcef29c79182032d736a03e90de2eda35bab57d7889b44cf4961bb2\n",
            "  Stored in directory: /tmp/pip-ephem-wheel-cache-sj95leo7/wheels/9b/93/81/a2a7dc8c66ede5bf30634d20635f32b95eac7ca2ea8844058b\n",
            "  Building wheel for wrapt (setup.py) ... \u001b[?25l\u001b[?25hdone\n",
            "  Created wheel for wrapt: filename=wrapt-1.12.1-cp37-cp37m-linux_x86_64.whl size=68721 sha256=0a3a318a5ad90716ef944b56d2e9aec0212932e01d5ce0ab356a5f11c6a89b4c\n",
            "  Stored in directory: /root/.cache/pip/wheels/62/76/4c/aa25851149f3f6d9785f6c869387ad82b3fd37582fa8147ac6\n",
            "Successfully built pykospacing wrapt\n",
            "Installing collected packages: typing-extensions, grpcio, wrapt, tensorflow-estimator, keras-nightly, flatbuffers, tensorflow, argparse, pykospacing\n",
            "  Attempting uninstall: typing-extensions\n",
            "    Found existing installation: typing-extensions 3.10.0.2\n",
            "    Uninstalling typing-extensions-3.10.0.2:\n",
            "      Successfully uninstalled typing-extensions-3.10.0.2\n",
            "  Attempting uninstall: grpcio\n",
            "    Found existing installation: grpcio 1.42.0\n",
            "    Uninstalling grpcio-1.42.0:\n",
            "      Successfully uninstalled grpcio-1.42.0\n",
            "  Attempting uninstall: wrapt\n",
            "    Found existing installation: wrapt 1.13.3\n",
            "    Uninstalling wrapt-1.13.3:\n",
            "      Successfully uninstalled wrapt-1.13.3\n",
            "  Attempting uninstall: tensorflow-estimator\n",
            "    Found existing installation: tensorflow-estimator 2.7.0\n",
            "    Uninstalling tensorflow-estimator-2.7.0:\n",
            "      Successfully uninstalled tensorflow-estimator-2.7.0\n",
            "  Attempting uninstall: flatbuffers\n",
            "    Found existing installation: flatbuffers 2.0\n",
            "    Uninstalling flatbuffers-2.0:\n",
            "      Successfully uninstalled flatbuffers-2.0\n",
            "  Attempting uninstall: tensorflow\n",
            "    Found existing installation: tensorflow 2.7.0\n",
            "    Uninstalling tensorflow-2.7.0:\n",
            "      Successfully uninstalled tensorflow-2.7.0\n",
            "Successfully installed argparse-1.4.0 flatbuffers-1.12 grpcio-1.34.1 keras-nightly-2.5.0.dev2021032900 pykospacing-0.5 tensorflow-2.5.2 tensorflow-estimator-2.5.0 typing-extensions-3.7.4.3 wrapt-1.12.1\n"
          ]
        },
        {
          "output_type": "display_data",
          "data": {
            "application/vnd.colab-display-data+json": {
              "pip_warning": {
                "packages": [
                  "argparse"
                ]
              }
            }
          },
          "metadata": {}
        }
      ]
    },
    {
      "cell_type": "code",
      "source": [
        "#정제되지 않은 텍스트 예시\n",
        "text='저는 enfp유형인데 저 같은 성향을 가진 사람들은 어떻게 행동하는지 궁금해서 글남겨요!저는 힘든상황이 있을때 가족들한테 털어놓고 어떻게든 그 상황을 해결해나가려고 하는 편이에요.친구들한테도 힘든상황에 대해서 감정적으로 울고불며 그렇게 잘 털어놓지 않고 전혀 티내지도 않아요.항상 긍정적인 모습을 주로 보여주긴해요.어차피 내가 해결해야할 일이고, 나로인해 상대가 걱정하는것도 싫고 제 우울한 감정을 친구한테 전달하고 싶지 않아서 그런거 같아요. 그래도 정말 친한 친구들이랑은 만날때 어느정도 문제가 해결되어갈때 쯤 이런상황이 있었고 힘들었다. 이렇게 털어놓는 편이에요. 근데 어느날 한 지인(이성)이  저한테 너는 힘들면 힘들다고 말하는걸 못봐서 털어놨으면 좋겠는데 라고 말하길래다른 사람들은 그럼 힘들때 어떻게 하는지 궁금해지더라구요.제가 좀 제 감정표현을 하는데 서툰게 없지않아 있긴하지만 남한테 그렇게 힘들때 다들 털어놓으시나요어떻게 지인들에게 감정적인 표현을 다들하시는지 궁금해요.'"
      ],
      "metadata": {
        "id": "Tsdxo_GvDkLt"
      },
      "execution_count": 1,
      "outputs": []
    },
    {
      "cell_type": "code",
      "source": [
        "#pykospacing 패키지\n",
        "\n",
        "from pykospacing import Spacing\n",
        "spacing = Spacing()\n",
        "kospacing_sent = spacing(text) \n",
        "print(kospacing_sent)"
      ],
      "metadata": {
        "colab": {
          "base_uri": "https://localhost:8080/"
        },
        "id": "cGwBOy3pDfDV",
        "outputId": "88078693-62e5-4d11-ac7a-39f3473760af"
      },
      "execution_count": 2,
      "outputs": [
        {
          "output_type": "stream",
          "name": "stdout",
          "text": [
            "저는 enfp 유형인데 저 같은 성향을 가진 사람들은 어떻게 행동하는지 궁금해서 글 남겨요!저는 힘든 상황이 있을 때 가족들한테 털어놓고 어떻게든 그 상황을 해결해 나가려고 하는 편이에요.친구들한테도 힘든 상황에 대해서 감정적으로 울고 불며 그렇게 잘 털어놓지 않고 전혀 티 내지도 않아요.항상 긍정적인 모습을 주로 보여주긴 해요. 어차피 내가 해결해야 할 일이고, 나로 인해  상대가 걱정하는 것도 싫고 제 우울한 감정을 친구한테 전달하고 싶지 않아서 그런 거 같아요. 그래도 정말 친 한 친구들이랑은 만날 때 어느 정도 문제가 해결되어 갈 때 쯤 이런 상황이 있었고 힘들었다. 이렇게 털어놓는 편이에요. 근데 어느 날 한 지인 (이성)이 저한테 너는 힘들면 힘들다고 말하는 걸 못 봐서 털어놨으면 좋겠는데 라고 말하길래 다른 사람들은 그럼 힘들 때 어 떻게 하는지 궁금해지더라구요.제가 좀 제 감정 표현을 하는데 서툰 게 없지 않아 있긴 하지만 남한테 그렇게 힘들 때 다들 털어놓으시나요 어떻게 지인들에게 감정적인 표현을 다들 하시는지 궁금해요.\n"
          ]
        }
      ]
    },
    {
      "cell_type": "code",
      "source": [
        "#py-hanspell 패키지\n",
        "from hanspell import spell_checker\n",
        "spelled_sent = spell_checker.check(text)\n",
        "hanspell_sent = spelled_sent.checked\n",
        "print(hanspell_sent)\n"
      ],
      "metadata": {
        "colab": {
          "base_uri": "https://localhost:8080/"
        },
        "id": "J5nn2YI9JXCj",
        "outputId": "03199210-f5c9-459d-b4f9-00be57e9a4df"
      },
      "execution_count": 3,
      "outputs": [
        {
          "output_type": "stream",
          "name": "stdout",
          "text": [
            "저는 enfp 유형인데 저 같은 성향을 가진 사람들은 어떻게 행동하는지 궁금해서 글 남겨요! 저는 힘든 상황이 있을 때 가족들한테 털어놓고 어떻게든 그 상황을 해결해나가려고 하는 편이에요. 친구들한테도 힘든 상황에 대해서 감정적으로 울고 불며 그렇게 잘 털어놓지 않고 전혀 티 내지도 않아요. 항상 긍정적인 모습을 주로 보여주긴 해요. 어차피 내가 해결해야 할 일이고, 나로 인해 상대가 걱정하는 것도 싫고 제 우울한 감정을 친구한테 전달하고 싶지 않아서 그런 거 같아요. 그래도 정말 친한 친구들이랑은 만날 때 어느 정도 문제가 해결되어갈 때쯤 이런 상황이 있었고 힘들었다. 이렇게 털어놓는 편이에요. 근데 어느 날 한 지인(이성)이  저한테 너는 힘들면 힘들다고 말하는 걸 못 봐서 털어놨으면 좋겠는데라고 말하길래 다른 사람들은 그럼 힘들 때 어떻게 하는지 궁금해지더라고요. 제가 좀 제 감정 표현을 하는데 서툰 게 없지 않아 있긴 하지만 남한테 그렇게 힘들 때 다들 털어놓으시나요 어떻게 지인들에게 감정적인 표현을 다들 하시는지 궁금해요.\n"
          ]
        }
      ]
    },
    {
      "cell_type": "code",
      "metadata": {
        "colab": {
          "base_uri": "https://localhost:8080/"
        },
        "id": "WEHDRIblIakw",
        "outputId": "a7725a2c-a4b6-41ec-a650-32c490a77a07"
      },
      "source": [
        "#kss - 문장 토큰화\n",
        "import kss\n",
        "kss_complete_text = kss.split_sentences(hanspell_sent)\n",
        "print(kss_complete_text)\n"
      ],
      "execution_count": 4,
      "outputs": [
        {
          "output_type": "stream",
          "name": "stderr",
          "text": [
            "[Korean Sentence Splitter]: Initializing Pynori...\n"
          ]
        },
        {
          "output_type": "stream",
          "name": "stdout",
          "text": [
            "['저는 enfp 유형인데 저 같은 성향을 가진 사람들은 어떻게 행동하는지 궁금해서 글 남겨요!', '저는 힘든 상황이 있을 때 가족들한테 털어놓고 어떻게든 그 상황을 해결해나가려고 하는 편이에요.', '친구들한테도 힘든 상황에 대해서 감정적으로 울고 불며 그렇게 잘 털어놓지 않고 전혀 티 내지도 않아요.', '항상 긍정적인 모습을 주로 보여주긴 해요.', '어차피 내가 해결해야 할 일이고, 나로 인해 상대가 걱정하는 것도 싫고 제 우울한 감정을 친구한테 전달하고 싶지 않아서 그런 거 같아요.', '그래도 정말 친한 친구들이랑은 만날 때 어느 정도 문제가 해결되어갈 때쯤 이런 상황이 있었고 힘들었다.', '이렇게 털어놓는 편이에요.', '근데 어느 날 한 지인(이성)이 저한테 너는 힘들면 힘들다고 말하는 걸 못 봐서 털어놨으면 좋겠는데라고 말하길래 다른 사람들은 그럼 힘들 때 어떻게 하는지 궁금해지더라고요.', '제가 좀 제 감정 표현을 하는데 서툰 게 없지 않아 있긴 하지만 남한테 그렇게 힘들 때 다들 털어놓으시나요', '어떻게 지인들에게 감정적인 표현을 다들 하시는지 궁금해요.']\n"
          ]
        }
      ]
    },
    {
      "cell_type": "code",
      "source": [
        "#형태소 토큰화\n",
        "import konlpy\n",
        "from konlpy.tag import Okt  \n",
        "okt=Okt()\n",
        "size = len(kss_complete_text)\n",
        "for i in range(size):\n",
        "  print(okt.morphs(kss_complete_text[i]))\n"
      ],
      "metadata": {
        "colab": {
          "base_uri": "https://localhost:8080/"
        },
        "id": "wo3jGX_0E1dE",
        "outputId": "cbc26da7-5566-44cf-b816-ca773a64d27c"
      },
      "execution_count": 5,
      "outputs": [
        {
          "output_type": "stream",
          "name": "stdout",
          "text": [
            "['저', '는', 'enfp', '유형', '인데', '저', '같은', '성향', '을', '가진', '사람', '들', '은', '어떻게', '행동', '하는지', '궁금해서', '글', '남겨요', '!']\n",
            "['저', '는', '힘든', '상황', '이', '있을', '때', '가족', '들', '한테', '털어놓고', '어떻', '게', '든', '그', '상황', '을', '해결', '해나가려고', '하는', '편이', '에요', '.']\n",
            "['친구', '들', '한테', '도', '힘든', '상황', '에', '대해', '서', '감정', '적', '으로', '울', '고', '불며', '그렇게', '잘', '털어놓지', '않고', '전혀', '티', '내지', '도', '않아요', '.']\n",
            "['항상', '긍정', '적', '인', '모습', '을', '주로', '보여주긴', '해', '요', '.']\n",
            "['어차피', '내', '가', '해결', '해야', '할', '일이', '고', ',', '나로', '인해', '상대', '가', '걱정', '하는', '것', '도', '싫고', '제', '우울한', '감정', '을', '친구', '한테', '전달', '하고', '싶지', '않아서', '그런', '거', '같아요', '.']\n",
            "['그래도', '정말', '친한', '친구', '들', '이랑은', '만날', '때', '어느', '정도', '문제', '가', '해결', '되어', '갈', '때', '쯤', '이런', '상황', '이', '있었고', '힘들었다', '.']\n",
            "['이렇게', '털어놓는', '편이', '에요', '.']\n",
            "['근데', '어느', '날', '한', '지인', '(', '이성', ')', '이', '저', '한테', '너', '는', '힘들면', '힘들다고', '말', '하는', '걸', '못', '봐서', '털어놨으면', '좋겠는데라고', '말', '하길래', '다른', '사람', '들', '은', '그럼', '힘들', '때', '어떻게', '하는지', '궁금해지더라고요', '.']\n",
            "['제', '가', '좀', '제', '감정', '표현', '을', '하는데', '서툰', '게', '없지', '않아', '있긴', '하지만', '남', '한테', '그렇게', '힘들', '때', '다', '들', '털어놓으시나요']\n",
            "['어떻게', '지인', '들', '에게', '감정', '적', '인', '표현', '을', '다', '들', '하시는지', '궁금해요', '.']\n"
          ]
        }
      ]
    }
  ]
}